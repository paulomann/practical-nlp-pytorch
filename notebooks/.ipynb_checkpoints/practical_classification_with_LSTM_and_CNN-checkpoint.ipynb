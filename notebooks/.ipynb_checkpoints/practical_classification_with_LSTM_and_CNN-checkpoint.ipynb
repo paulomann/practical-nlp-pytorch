{
 "cells": [
  {
   "cell_type": "code",
   "execution_count": 41,
   "metadata": {
    "scrolled": true
   },
   "outputs": [
    {
     "name": "stdout",
     "output_type": "stream",
     "text": [
      "The autoreload extension is already loaded. To reload it, use:\n",
      "  %reload_ext autoreload\n"
     ]
    }
   ],
   "source": [
    "%load_ext autoreload\n",
    "%autoreload 2\n",
    "from practicalnlp import settings\n",
    "from practicalnlp.data import Reader\n",
    "from practicalnlp.training import fit\n",
    "\n",
    "\n",
    "r = Reader((settings.TRAIN_DATA, settings.VALIDATION_DATA, settings.TEST_DATA))\n",
    "train = r.load(settings.TRAIN_DATA)\n",
    "valid = r.load(settings.VALIDATION_DATA)\n",
    "test = r.load(settings.TEST_DATA)"
   ]
  },
  {
   "cell_type": "markdown",
   "metadata": {},
   "source": [
    "# Training *LSTM* with random embeddings\n",
    "\n",
    "The below code executes the classification using random embeddings. The `nn.Embedding` from PyTorch creates a `look-up` table from a word in the vocabulary to its respective embedding. If the programmer do not provide any pre-trained embeddings, the embeddings are initialized with random values and are trained using the `emb.weights` param, therefore, being a trainable parameter of the model."
   ]
  },
  {
   "cell_type": "code",
   "execution_count": 46,
   "metadata": {
    "scrolled": true
   },
   "outputs": [
    {
     "name": "stdout",
     "output_type": "stream",
     "text": [
      "Model has 5342502 parameters\n",
      "EPOCH 1\n",
      "=================================\n",
      "Training Results\n",
      "{'acc': 0.6428320837826952, 'precision': 0.6500416471974484, 'recall': 0.7571641543813152, 'f1': 0.6995255897334995}\n",
      "Validation Results\n",
      "{'acc': 0.7442660550458715, 'precision': 0.7461024498886414, 'recall': 0.7545045045045045, 'f1': 0.7502799552071668}\n",
      "New best model 0.74\n",
      "EPOCH 2\n",
      "=================================\n",
      "Training Results\n",
      "{'acc': 0.7472486064370265, 'precision': 0.7568413703011329, 'recall': 0.7951678932298445, 'f1': 0.7755313992937755}\n",
      "Validation Results\n",
      "{'acc': 0.786697247706422, 'precision': 0.76875, 'recall': 0.831081081081081, 'f1': 0.7987012987012988}\n",
      "New best model 0.79\n",
      "EPOCH 3\n",
      "=================================\n",
      "Training Results\n",
      "{'acc': 0.7753537506009537, 'precision': 0.7865240739890761, 'recall': 0.810998840483684, 'f1': 0.7985739750445633}\n",
      "Validation Results\n",
      "{'acc': 0.8004587155963303, 'precision': 0.8229665071770335, 'recall': 0.7747747747747747, 'f1': 0.7981438515081206}\n",
      "New best model 0.80\n",
      "EPOCH 4\n",
      "=================================\n",
      "Training Results\n",
      "{'acc': 0.7911279739088629, 'precision': 0.8019094179503736, 'recall': 0.8228779668236352, 'f1': 0.8122583885171042}\n",
      "Validation Results\n",
      "{'acc': 0.8119266055045872, 'precision': 0.8017241379310345, 'recall': 0.8378378378378378, 'f1': 0.8193832599118943}\n",
      "New best model 0.81\n",
      "EPOCH 5\n",
      "=================================\n",
      "Training Results\n",
      "{'acc': 0.800379412949416, 'precision': 0.811483763376106, 'recall': 0.8290541659764784, 'f1': 0.8201748738777755}\n",
      "Validation Results\n",
      "{'acc': 0.7970183486238532, 'precision': 0.7870967741935484, 'recall': 0.8243243243243243, 'f1': 0.8052805280528054}\n",
      "EPOCH 6\n",
      "=================================\n",
      "Training Results\n",
      "{'acc': 0.8079286911552604, 'precision': 0.818988135317746, 'recall': 0.8346861023687262, 'f1': 0.8267626101631351}\n",
      "Validation Results\n",
      "{'acc': 0.8061926605504587, 'precision': 0.8132118451025057, 'recall': 0.8040540540540541, 'f1': 0.8086070215175538}\n",
      "EPOCH 7\n",
      "=================================\n",
      "Training Results\n",
      "{'acc': 0.8145554241758813, 'precision': 0.8241111754487551, 'recall': 0.8419744906410469, 'f1': 0.8329470702530609}\n",
      "Validation Results\n",
      "{'acc': 0.8038990825688074, 'precision': 0.8421052631578947, 'recall': 0.7567567567567568, 'f1': 0.797153024911032}\n",
      "EPOCH 8\n",
      "=================================\n",
      "Training Results\n",
      "{'acc': 0.8197528618391133, 'precision': 0.8294913759082573, 'recall': 0.845547693982347, 'f1': 0.8374425799193774}\n",
      "Validation Results\n",
      "{'acc': 0.7947247706422018, 'precision': 0.8320802005012531, 'recall': 0.7477477477477478, 'f1': 0.7876631079478054}\n",
      "EPOCH 9\n",
      "=================================\n",
      "Training Results\n",
      "{'acc': 0.8217668689336157, 'precision': 0.8329367301231803, 'recall': 0.844861449632031, 'f1': 0.8388567132267425}\n",
      "Validation Results\n",
      "{'acc': 0.7958715596330275, 'precision': 0.7916666666666666, 'recall': 0.8130630630630631, 'f1': 0.8022222222222222}\n",
      "EPOCH 10\n",
      "=================================\n",
      "Training Results\n",
      "{'acc': 0.8262236717298372, 'precision': 0.8368984580932609, 'recall': 0.8489789157339265, 'f1': 0.8428954045672399}\n",
      "Validation Results\n",
      "{'acc': 0.8142201834862385, 'precision': 0.823394495412844, 'recall': 0.8085585585585585, 'f1': 0.8159090909090909}\n",
      "New best model 0.81\n",
      "Final result\n",
      "{'acc': 0.8094453596924767, 'precision': 0.8171557562076749, 'recall': 0.7964796479647965, 'f1': 0.8066852367688022}\n",
      "CPU times: user 2min 23s, sys: 8.44 s, total: 2min 32s\n",
      "Wall time: 2min 25s\n"
     ]
    },
    {
     "data": {
      "text/plain": [
       "0.8094453596924767"
      ]
     },
     "execution_count": 46,
     "metadata": {},
     "output_type": "execute_result"
    }
   ],
   "source": [
    "from practicalnlp.models import LSTMClassifier\n",
    "\n",
    "embed_dim = 300\n",
    "embeddings = nn.Embedding(len(r.vocab), embed_dim)\n",
    "model  = LSTMClassifier(embeddings, len(r.labels), embed_dim, 100, hidden_units=[100])\n",
    "\n",
    "num_params = sum(p.numel() for p in model.parameters() if p.requires_grad)\n",
    "print(f\"Model has {num_params} parameters\") \n",
    "\n",
    "\n",
    "model.to('cuda:0')\n",
    "loss = torch.nn.NLLLoss()\n",
    "loss = loss.to('cuda:0')\n",
    "\n",
    "learnable_params = [p for p in model.parameters() if p.requires_grad]\n",
    "optimizer = torch.optim.Adadelta(learnable_params, lr=1.0)\n",
    "\n",
    "%time fit(model, r.labels, optimizer, loss, 10, 50, train, valid, test)"
   ]
  },
  {
   "cell_type": "markdown",
   "metadata": {},
   "source": [
    "# Training a *CNN* with random embeddings\n",
    "\n",
    "The below code we train a convolutional neural network"
   ]
  },
  {
   "cell_type": "code",
   "execution_count": 45,
   "metadata": {
    "scrolled": true
   },
   "outputs": [
    {
     "name": "stdout",
     "output_type": "stream",
     "text": [
      "Model has 5442302 parameters\n",
      "EPOCH 1\n",
      "=================================\n",
      "Training Results\n",
      "{'acc': 0.5896493028936735, 'precision': 0.6145954067396437, 'recall': 0.6775834733429565, 'f1': 0.6445542437168679}\n",
      "Validation Results\n",
      "{'acc': 0.6215596330275229, 'precision': 0.8238636363636364, 'recall': 0.32657657657657657, 'f1': 0.467741935483871}\n",
      "New best model 0.62\n",
      "EPOCH 2\n",
      "=================================\n",
      "Training Results\n",
      "{'acc': 0.635685606995751, 'precision': 0.6515677957069469, 'recall': 0.7233252088312548, 'f1': 0.6855739469788723}\n",
      "Validation Results\n",
      "{'acc': 0.7006880733944955, 'precision': 0.6625222024866785, 'recall': 0.8400900900900901, 'f1': 0.740814299900695}\n",
      "New best model 0.70\n",
      "EPOCH 3\n",
      "=================================\n",
      "Training Results\n",
      "{'acc': 0.6652460337053833, 'precision': 0.6769349579543504, 'recall': 0.746728507536856, 'f1': 0.7101209563994374}\n",
      "Validation Results\n",
      "{'acc': 0.6995412844036697, 'precision': 0.6590909090909091, 'recall': 0.8490990990990991, 'f1': 0.7421259842519684}\n",
      "EPOCH 4\n",
      "=================================\n",
      "Training Results\n",
      "{'acc': 0.6831512064552175, 'precision': 0.6930737988247494, 'recall': 0.7591518966374027, 'f1': 0.7246095294024643}\n",
      "Validation Results\n",
      "{'acc': 0.6961009174311926, 'precision': 0.8033898305084746, 'recall': 0.5337837837837838, 'f1': 0.6414073071718538}\n",
      "EPOCH 5\n",
      "=================================\n",
      "Training Results\n",
      "{'acc': 0.6976910383181092, 'precision': 0.7056098036243965, 'recall': 0.7711966681653613, 'f1': 0.7369468376184338}\n",
      "Validation Results\n",
      "{'acc': 0.7270642201834863, 'precision': 0.7239130434782609, 'recall': 0.75, 'f1': 0.7367256637168141}\n",
      "New best model 0.73\n",
      "EPOCH 6\n",
      "=================================\n",
      "Training Results\n",
      "{'acc': 0.7156221982562596, 'precision': 0.7226995474519577, 'recall': 0.782247568565276, 'f1': 0.7512954545454545}\n",
      "Validation Results\n",
      "{'acc': 0.7155963302752294, 'precision': 0.6814814814814815, 'recall': 0.8288288288288288, 'f1': 0.7479674796747967}\n",
      "EPOCH 7\n",
      "=================================\n",
      "Training Results\n",
      "{'acc': 0.7252244643390808, 'precision': 0.7310959323963396, 'recall': 0.7902458647861994, 'f1': 0.7595210207307505}\n",
      "Validation Results\n",
      "{'acc': 0.698394495412844, 'precision': 0.8067796610169492, 'recall': 0.536036036036036, 'f1': 0.6441136671177267}\n",
      "EPOCH 8\n",
      "=================================\n",
      "Training Results\n",
      "{'acc': 0.7353334805940671, 'precision': 0.7403487197505381, 'recall': 0.7977945526396744, 'f1': 0.7679989065685616}\n",
      "Validation Results\n",
      "{'acc': 0.6880733944954128, 'precision': 0.6299093655589124, 'recall': 0.9391891891891891, 'f1': 0.7540687160940326}\n",
      "EPOCH 9\n",
      "=================================\n",
      "Training Results\n",
      "{'acc': 0.7462480996868543, 'precision': 0.7516942020640475, 'recall': 0.8031898530490547, 'f1': 0.7765892944985301}\n",
      "Validation Results\n",
      "{'acc': 0.7327981651376146, 'precision': 0.7644110275689223, 'recall': 0.6869369369369369, 'f1': 0.723606168446026}\n",
      "New best model 0.73\n",
      "EPOCH 10\n",
      "=================================\n",
      "Training Results\n",
      "{'acc': 0.7564480711009473, 'precision': 0.7588788339168153, 'recall': 0.8155895785513145, 'f1': 0.7862128746749395}\n",
      "Validation Results\n",
      "{'acc': 0.7350917431192661, 'precision': 0.7251585623678647, 'recall': 0.7725225225225225, 'f1': 0.748091603053435}\n",
      "New best model 0.74\n",
      "Final result\n",
      "{'acc': 0.7364085667215815, 'precision': 0.7182095625635809, 'recall': 0.7766776677667767, 'f1': 0.7463002114164905}\n",
      "CPU times: user 2min 4s, sys: 16.1 s, total: 2min 20s\n",
      "Wall time: 2min 21s\n"
     ]
    },
    {
     "data": {
      "text/plain": [
       "0.7364085667215815"
      ]
     },
     "execution_count": 45,
     "metadata": {},
     "output_type": "execute_result"
    }
   ],
   "source": [
    "from practicalnlp.models import ConvClassifier\n",
    "\n",
    "embed_dim = 300\n",
    "embeddings = nn.Embedding(len(r.vocab), embed_dim)\n",
    "model  = ConvClassifier(embeddings, len(r.labels), embed_dim)\n",
    "\n",
    "num_params = sum(p.numel() for p in model.parameters() if p.requires_grad)\n",
    "print(f\"Model has {num_params} parameters\")\n",
    "\n",
    "\n",
    "model.to('cuda:0')\n",
    "loss = torch.nn.NLLLoss()\n",
    "loss = loss.to('cuda:0')\n",
    "\n",
    "learnable_params = [p for p in model.parameters() if p.requires_grad]\n",
    "optimizer = torch.optim.Adadelta(learnable_params, lr=1.0)\n",
    "\n",
    "%time fit(model, r.labels, optimizer, loss, 10, 50, train, valid, test)"
   ]
  }
 ],
 "metadata": {
  "kernelspec": {
   "display_name": "Python 3",
   "language": "python",
   "name": "python3"
  },
  "language_info": {
   "codemirror_mode": {
    "name": "ipython",
    "version": 3
   },
   "file_extension": ".py",
   "mimetype": "text/x-python",
   "name": "python",
   "nbconvert_exporter": "python",
   "pygments_lexer": "ipython3",
   "version": "3.7.3"
  }
 },
 "nbformat": 4,
 "nbformat_minor": 2
}
