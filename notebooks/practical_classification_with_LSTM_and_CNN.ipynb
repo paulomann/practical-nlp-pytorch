{
 "cells": [
  {
   "cell_type": "code",
   "execution_count": 1,
   "metadata": {
    "scrolled": true
   },
   "outputs": [],
   "source": [
    "%load_ext autoreload\n",
    "%autoreload 2\n",
    "from practicalnlp import settings\n",
    "from practicalnlp.data import Reader\n",
    "from practicalnlp.training import fit\n",
    "import torch.nn as nn\n",
    "import torch\n",
    "\n",
    "\n",
    "r = Reader((settings.TRAIN_DATA, settings.VALIDATION_DATA, settings.TEST_DATA))\n",
    "train = r.load(settings.TRAIN_DATA)\n",
    "valid = r.load(settings.VALIDATION_DATA)\n",
    "test = r.load(settings.TEST_DATA)"
   ]
  },
  {
   "cell_type": "markdown",
   "metadata": {},
   "source": [
    "# Training *LSTM* with random embeddings\n",
    "\n",
    "The below code executes the classification using random embeddings. The `nn.Embedding` from PyTorch creates a `look-up` table from a word in the vocabulary to its respective embedding. If the programmer do not provide any pre-trained embeddings, the embeddings are initialized with random values and are trained using the `emb.weights` param, therefore, being a trainable parameter of the model."
   ]
  },
  {
   "cell_type": "code",
   "execution_count": 46,
   "metadata": {
    "scrolled": true
   },
   "outputs": [
    {
     "name": "stdout",
     "output_type": "stream",
     "text": [
      "Model has 5342502 parameters\n",
      "EPOCH 1\n",
      "=================================\n",
      "Training Results\n",
      "{'acc': 0.6428320837826952, 'precision': 0.6500416471974484, 'recall': 0.7571641543813152, 'f1': 0.6995255897334995}\n",
      "Validation Results\n",
      "{'acc': 0.7442660550458715, 'precision': 0.7461024498886414, 'recall': 0.7545045045045045, 'f1': 0.7502799552071668}\n",
      "New best model 0.74\n",
      "EPOCH 2\n",
      "=================================\n",
      "Training Results\n",
      "{'acc': 0.7472486064370265, 'precision': 0.7568413703011329, 'recall': 0.7951678932298445, 'f1': 0.7755313992937755}\n",
      "Validation Results\n",
      "{'acc': 0.786697247706422, 'precision': 0.76875, 'recall': 0.831081081081081, 'f1': 0.7987012987012988}\n",
      "New best model 0.79\n",
      "EPOCH 3\n",
      "=================================\n",
      "Training Results\n",
      "{'acc': 0.7753537506009537, 'precision': 0.7865240739890761, 'recall': 0.810998840483684, 'f1': 0.7985739750445633}\n",
      "Validation Results\n",
      "{'acc': 0.8004587155963303, 'precision': 0.8229665071770335, 'recall': 0.7747747747747747, 'f1': 0.7981438515081206}\n",
      "New best model 0.80\n",
      "EPOCH 4\n",
      "=================================\n",
      "Training Results\n",
      "{'acc': 0.7911279739088629, 'precision': 0.8019094179503736, 'recall': 0.8228779668236352, 'f1': 0.8122583885171042}\n",
      "Validation Results\n",
      "{'acc': 0.8119266055045872, 'precision': 0.8017241379310345, 'recall': 0.8378378378378378, 'f1': 0.8193832599118943}\n",
      "New best model 0.81\n",
      "EPOCH 5\n",
      "=================================\n",
      "Training Results\n",
      "{'acc': 0.800379412949416, 'precision': 0.811483763376106, 'recall': 0.8290541659764784, 'f1': 0.8201748738777755}\n",
      "Validation Results\n",
      "{'acc': 0.7970183486238532, 'precision': 0.7870967741935484, 'recall': 0.8243243243243243, 'f1': 0.8052805280528054}\n",
      "EPOCH 6\n",
      "=================================\n",
      "Training Results\n",
      "{'acc': 0.8079286911552604, 'precision': 0.818988135317746, 'recall': 0.8346861023687262, 'f1': 0.8267626101631351}\n",
      "Validation Results\n",
      "{'acc': 0.8061926605504587, 'precision': 0.8132118451025057, 'recall': 0.8040540540540541, 'f1': 0.8086070215175538}\n",
      "EPOCH 7\n",
      "=================================\n",
      "Training Results\n",
      "{'acc': 0.8145554241758813, 'precision': 0.8241111754487551, 'recall': 0.8419744906410469, 'f1': 0.8329470702530609}\n",
      "Validation Results\n",
      "{'acc': 0.8038990825688074, 'precision': 0.8421052631578947, 'recall': 0.7567567567567568, 'f1': 0.797153024911032}\n",
      "EPOCH 8\n",
      "=================================\n",
      "Training Results\n",
      "{'acc': 0.8197528618391133, 'precision': 0.8294913759082573, 'recall': 0.845547693982347, 'f1': 0.8374425799193774}\n",
      "Validation Results\n",
      "{'acc': 0.7947247706422018, 'precision': 0.8320802005012531, 'recall': 0.7477477477477478, 'f1': 0.7876631079478054}\n",
      "EPOCH 9\n",
      "=================================\n",
      "Training Results\n",
      "{'acc': 0.8217668689336157, 'precision': 0.8329367301231803, 'recall': 0.844861449632031, 'f1': 0.8388567132267425}\n",
      "Validation Results\n",
      "{'acc': 0.7958715596330275, 'precision': 0.7916666666666666, 'recall': 0.8130630630630631, 'f1': 0.8022222222222222}\n",
      "EPOCH 10\n",
      "=================================\n",
      "Training Results\n",
      "{'acc': 0.8262236717298372, 'precision': 0.8368984580932609, 'recall': 0.8489789157339265, 'f1': 0.8428954045672399}\n",
      "Validation Results\n",
      "{'acc': 0.8142201834862385, 'precision': 0.823394495412844, 'recall': 0.8085585585585585, 'f1': 0.8159090909090909}\n",
      "New best model 0.81\n",
      "Final result\n",
      "{'acc': 0.8094453596924767, 'precision': 0.8171557562076749, 'recall': 0.7964796479647965, 'f1': 0.8066852367688022}\n",
      "CPU times: user 2min 23s, sys: 8.44 s, total: 2min 32s\n",
      "Wall time: 2min 25s\n"
     ]
    },
    {
     "data": {
      "text/plain": [
       "0.8094453596924767"
      ]
     },
     "execution_count": 46,
     "metadata": {},
     "output_type": "execute_result"
    }
   ],
   "source": [
    "from practicalnlp.models import LSTMClassifier\n",
    "\n",
    "embed_dim = 300\n",
    "embeddings = nn.Embedding(len(r.vocab), embed_dim)\n",
    "model  = LSTMClassifier(embeddings, len(r.labels), embed_dim, 100, hidden_units=[100])\n",
    "\n",
    "num_params = sum(p.numel() for p in model.parameters() if p.requires_grad)\n",
    "print(f\"Model has {num_params} parameters\") \n",
    "\n",
    "\n",
    "model.to('cuda:0')\n",
    "loss = torch.nn.NLLLoss()\n",
    "loss = loss.to('cuda:0')\n",
    "\n",
    "learnable_params = [p for p in model.parameters() if p.requires_grad]\n",
    "optimizer = torch.optim.Adadelta(learnable_params, lr=1.0)\n",
    "\n",
    "%time fit(model, r.labels, optimizer, loss, 10, 50, train, valid, test)"
   ]
  },
  {
   "cell_type": "markdown",
   "metadata": {},
   "source": [
    "# Training a *CNN* with random embeddings\n",
    "\n",
    "The below code we train a convolutional neural network"
   ]
  },
  {
   "cell_type": "code",
   "execution_count": 2,
   "metadata": {
    "scrolled": true
   },
   "outputs": [
    {
     "name": "stdout",
     "output_type": "stream",
     "text": [
      "Model has 5442302 parameters\n",
      "EPOCH 1\n",
      "=================================\n",
      "Training Results\n",
      "{'acc': 0.5897142708644638, 'precision': 0.6157095509390638, 'recall': 0.6725904541044512, 'f1': 0.6428943023229513}\n",
      "Validation Results\n",
      "{'acc': 0.6697247706422018, 'precision': 0.6282894736842105, 'recall': 0.8603603603603603, 'f1': 0.7262357414448668}\n",
      "New best model 0.67\n",
      "EPOCH 2\n",
      "=================================\n",
      "Training Results\n",
      "{'acc': 0.6350489208820052, 'precision': 0.6504203107752399, 'recall': 0.725052651506188, 'f1': 0.6857117280427898}\n",
      "Validation Results\n",
      "{'acc': 0.698394495412844, 'precision': 0.8389513108614233, 'recall': 0.5045045045045045, 'f1': 0.630098452883263}\n",
      "New best model 0.70\n",
      "EPOCH 3\n",
      "=================================\n",
      "Training Results\n",
      "{'acc': 0.6644144436792662, 'precision': 0.6761351455644643, 'recall': 0.7463262263659812, 'f1': 0.7094989033237726}\n",
      "Validation Results\n",
      "{'acc': 0.6846330275229358, 'precision': 0.7478005865102639, 'recall': 0.5743243243243243, 'f1': 0.6496815286624203}\n",
      "EPOCH 4\n",
      "=================================\n",
      "Training Results\n",
      "{'acc': 0.6846584633775549, 'precision': 0.6941925734024179, 'recall': 0.7609030029106226, 'f1': 0.7260185822824824}\n",
      "Validation Results\n",
      "{'acc': 0.5814220183486238, 'precision': 0.5491905354919053, 'recall': 0.9932432432432432, 'f1': 0.7072975140336808}\n",
      "EPOCH 5\n",
      "=================================\n",
      "Training Results\n",
      "{'acc': 0.7026675848806538, 'precision': 0.7108011662822578, 'recall': 0.7730187652334414, 'f1': 0.7406055522178265}\n",
      "Validation Results\n",
      "{'acc': 0.7075688073394495, 'precision': 0.8118811881188119, 'recall': 0.5540540540540541, 'f1': 0.6586345381526104}\n",
      "New best model 0.71\n",
      "EPOCH 6\n",
      "=================================\n",
      "Training Results\n",
      "{'acc': 0.7195072829095256, 'precision': 0.7261508839488885, 'recall': 0.785347499940841, 'f1': 0.7545899980673693}\n",
      "Validation Results\n",
      "{'acc': 0.716743119266055, 'precision': 0.7922848664688428, 'recall': 0.6013513513513513, 'f1': 0.6837387964148527}\n",
      "New best model 0.72\n",
      "EPOCH 7\n",
      "=================================\n",
      "Training Results\n",
      "{'acc': 0.7279271319239615, 'precision': 0.7335875186256464, 'recall': 0.7922099434440001, 'f1': 0.761772569543205}\n",
      "Validation Results\n",
      "{'acc': 0.713302752293578, 'precision': 0.8277027027027027, 'recall': 0.5518018018018018, 'f1': 0.6621621621621622}\n",
      "EPOCH 8\n",
      "=================================\n",
      "Training Results\n",
      "{'acc': 0.7402710463741375, 'precision': 0.744886738508907, 'recall': 0.8014860739724082, 'f1': 0.7721506001436241}\n",
      "Validation Results\n",
      "{'acc': 0.7362385321100917, 'precision': 0.7845744680851063, 'recall': 0.6644144144144144, 'f1': 0.7195121951219512}\n",
      "New best model 0.74\n",
      "EPOCH 9\n",
      "=================================\n",
      "Training Results\n",
      "{'acc': 0.7478722989566143, 'precision': 0.7532185512641538, 'recall': 0.8043730329633925, 'f1': 0.7779557834027555}\n",
      "Validation Results\n",
      "{'acc': 0.7052752293577982, 'precision': 0.6477093206951027, 'recall': 0.9234234234234234, 'f1': 0.7613741875580315}\n",
      "EPOCH 10\n",
      "=================================\n",
      "Training Results\n",
      "{'acc': 0.7572276867504321, 'precision': 0.7618455250238799, 'recall': 0.8115667668425661, 'f1': 0.7859205279802008}\n",
      "Validation Results\n",
      "{'acc': 0.7121559633027523, 'precision': 0.6539074960127592, 'recall': 0.9234234234234234, 'f1': 0.765639589169001}\n",
      "Final result\n",
      "{'acc': 0.741900054914882, 'precision': 0.7719950433705081, 'recall': 0.6853685368536854, 'f1': 0.726107226107226}\n",
      "CPU times: user 1min 39s, sys: 20.7 s, total: 2min\n",
      "Wall time: 2min\n"
     ]
    },
    {
     "data": {
      "text/plain": [
       "0.741900054914882"
      ]
     },
     "execution_count": 2,
     "metadata": {},
     "output_type": "execute_result"
    }
   ],
   "source": [
    "from practicalnlp.models import ConvClassifier\n",
    "\n",
    "embed_dim = 300\n",
    "embeddings = nn.Embedding(len(r.vocab), embed_dim)\n",
    "model  = ConvClassifier(embeddings, len(r.labels), embed_dim)\n",
    "\n",
    "num_params = sum(p.numel() for p in model.parameters() if p.requires_grad)\n",
    "print(f\"Model has {num_params} parameters\")\n",
    "\n",
    "\n",
    "model.to('cuda:0')\n",
    "loss = torch.nn.NLLLoss()\n",
    "loss = loss.to('cuda:0')\n",
    "\n",
    "learnable_params = [p for p in model.parameters() if p.requires_grad]\n",
    "optimizer = torch.optim.Adadelta(learnable_params, lr=1.0)\n",
    "\n",
    "%time fit(model, r.labels, optimizer, loss, 10, 50, train, valid, test)"
   ]
  },
  {
   "cell_type": "markdown",
   "metadata": {},
   "source": [
    "# Training the same CNN with pre-trained embeddings"
   ]
  },
  {
   "cell_type": "code",
   "execution_count": 5,
   "metadata": {
    "scrolled": true
   },
   "outputs": [
    {
     "name": "stdout",
     "output_type": "stream",
     "text": [
      "Model has 5442302 parameters\n",
      "EPOCH 1\n",
      "=================================\n",
      "Training Results\n",
      "{'acc': 0.8318498980002859, 'precision': 0.8394072702014355, 'recall': 0.8579000922880333, 'f1': 0.848552938009807}\n",
      "Validation Results\n",
      "{'acc': 0.8474770642201835, 'precision': 0.8641686182669789, 'recall': 0.831081081081081, 'f1': 0.8473019517795637}\n",
      "New best model 0.85\n",
      "EPOCH 2\n",
      "=================================\n",
      "Training Results\n",
      "{'acc': 0.8785488754044256, 'precision': 0.8859649122807017, 'recall': 0.8938687616839016, 'f1': 0.8898992873549679}\n",
      "Validation Results\n",
      "{'acc': 0.8520642201834863, 'precision': 0.8832116788321168, 'recall': 0.8175675675675675, 'f1': 0.8491228070175438}\n",
      "New best model 0.85\n",
      "EPOCH 3\n",
      "=================================\n",
      "Training Results\n",
      "{'acc': 0.8942451371473863, 'precision': 0.9005823236592467, 'recall': 0.9075936486902199, 'f1': 0.9040743927304442}\n",
      "Validation Results\n",
      "{'acc': 0.8394495412844036, 'precision': 0.7878787878787878, 'recall': 0.9369369369369369, 'f1': 0.8559670781893004}\n",
      "EPOCH 4\n",
      "=================================\n",
      "Training Results\n",
      "{'acc': 0.9056145320357064, 'precision': 0.910729795075233, 'recall': 0.9181002863295392, 'f1': 0.9144001885458402}\n",
      "Validation Results\n",
      "{'acc': 0.8543577981651376, 'precision': 0.8660508083140878, 'recall': 0.8445945945945946, 'f1': 0.855188141391106}\n",
      "New best model 0.85\n",
      "EPOCH 5\n",
      "=================================\n",
      "Training Results\n",
      "{'acc': 0.9127740024168085, 'precision': 0.9182275978915663, 'recall': 0.9233772687474857, 'f1': 0.9207952333195683}\n",
      "Validation Results\n",
      "{'acc': 0.8463302752293578, 'precision': 0.8137651821862348, 'recall': 0.9054054054054054, 'f1': 0.8571428571428571}\n",
      "EPOCH 6\n",
      "=================================\n",
      "Training Results\n",
      "{'acc': 0.9200634087394914, 'precision': 0.9229868091188117, 'recall': 0.9322037909084455, 'f1': 0.9275724040499176}\n",
      "Validation Results\n",
      "{'acc': 0.8589449541284404, 'precision': 0.8706697459584296, 'recall': 0.8490990990990991, 'f1': 0.8597491448118587}\n",
      "New best model 0.86\n",
      "EPOCH 7\n",
      "=================================\n",
      "Training Results\n",
      "{'acc': 0.9243123140291836, 'precision': 0.9276291079812207, 'recall': 0.9351144134977165, 'f1': 0.9313567211492005}\n",
      "Validation Results\n",
      "{'acc': 0.8497706422018348, 'precision': 0.8424507658643327, 'recall': 0.8671171171171171, 'f1': 0.8546059933407325}\n",
      "EPOCH 8\n",
      "=================================\n",
      "Training Results\n",
      "{'acc': 0.9284572705656111, 'precision': 0.9316265413975338, 'recall': 0.9385929624458695, 'f1': 0.9350967772355424}\n",
      "Validation Results\n",
      "{'acc': 0.8555045871559633, 'precision': 0.8697674418604651, 'recall': 0.8423423423423423, 'f1': 0.8558352402745995}\n",
      "EPOCH 9\n",
      "=================================\n",
      "Training Results\n",
      "{'acc': 0.9311339509621757, 'precision': 0.9342293864699109, 'recall': 0.9408173406848246, 'f1': 0.9375117902282589}\n",
      "Validation Results\n",
      "{'acc': 0.8509174311926605, 'precision': 0.8536036036036037, 'recall': 0.8536036036036037, 'f1': 0.8536036036036037}\n",
      "EPOCH 10\n",
      "=================================\n",
      "Training Results\n",
      "{'acc': 0.9345642598199088, 'precision': 0.937619036422206, 'recall': 0.9436096452826617, 'f1': 0.9406048025664008}\n",
      "Validation Results\n",
      "{'acc': 0.8612385321100917, 'precision': 0.8565121412803532, 'recall': 0.8738738738738738, 'f1': 0.8651059085841695}\n",
      "New best model 0.86\n",
      "Final result\n",
      "{'acc': 0.8665568369028006, 'precision': 0.843298969072165, 'recall': 0.8998899889988999, 'f1': 0.8706758914316125}\n",
      "CPU times: user 1min 50s, sys: 20.4 s, total: 2min 10s\n",
      "Wall time: 2min 2s\n"
     ]
    },
    {
     "data": {
      "text/plain": [
       "0.8665568369028006"
      ]
     },
     "execution_count": 5,
     "metadata": {},
     "output_type": "execute_result"
    }
   ],
   "source": [
    "from practicalnlp.models import ConvClassifier\n",
    "from practicalnlp import settings\n",
    "from practicalnlp.data import EmbeddingsReader\n",
    "\n",
    "embeddings, embed_dim = EmbeddingsReader.from_binary(settings.PRETRAINED_EMBEDDINGS_FILE, r.vocab)\n",
    "model  = ConvClassifier(embeddings, len(r.labels), embed_dim)\n",
    "\n",
    "num_params = sum(p.numel() for p in model.parameters() if p.requires_grad)\n",
    "print(f\"Model has {num_params} parameters\")\n",
    "\n",
    "\n",
    "model.to('cuda:0')\n",
    "loss = torch.nn.NLLLoss()\n",
    "loss = loss.to('cuda:0')\n",
    "\n",
    "learnable_params = [p for p in model.parameters() if p.requires_grad]\n",
    "optimizer = torch.optim.Adadelta(learnable_params, lr=1.0)\n",
    "\n",
    "%time fit(model, r.labels, optimizer, loss, 10, 50, train, valid, test)"
   ]
  }
 ],
 "metadata": {
  "kernelspec": {
   "display_name": "Python 3",
   "language": "python",
   "name": "python3"
  },
  "language_info": {
   "codemirror_mode": {
    "name": "ipython",
    "version": 3
   },
   "file_extension": ".py",
   "mimetype": "text/x-python",
   "name": "python",
   "nbconvert_exporter": "python",
   "pygments_lexer": "ipython3",
   "version": "3.7.3"
  }
 },
 "nbformat": 4,
 "nbformat_minor": 2
}
