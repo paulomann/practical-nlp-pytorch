{
 "nbformat": 4,
 "nbformat_minor": 2,
 "metadata": {
  "language_info": {
   "name": "python",
   "codemirror_mode": {
    "name": "ipython",
    "version": 3
   },
   "version": "3.7.7-final"
  },
  "orig_nbformat": 2,
  "file_extension": ".py",
  "mimetype": "text/x-python",
  "name": "python",
  "npconvert_exporter": "python",
  "pygments_lexer": "ipython3",
  "version": 3,
  "kernelspec": {
   "name": "python37764bitpracticalnlpconda2882bdc575fd4a0cb8f28687db7ae70d",
   "display_name": "Python 3.7.7 64-bit ('practicalnlp': conda)"
  }
 },
 "cells": [
  {
   "cell_type": "code",
   "execution_count": 1,
   "metadata": {},
   "outputs": [],
   "source": [
    "%load_ext autoreload\n",
    "%autoreload 2\n",
    "from practicalnlp.data import TSPDataset\n",
    "import torch\n",
    "import torch.nn as nn"
   ]
  },
  {
   "cell_type": "code",
   "execution_count": 24,
   "metadata": {},
   "outputs": [
    {
     "output_type": "stream",
     "name": "stderr",
     "text": "Data points 5/5: 100%|██████████| 5/5 [00:00<00:00, 1090.56data/s]\nSolved 5/5: 100%|██████████| 5/5 [00:08<00:00,  1.74s/solve]\n"
    }
   ],
   "source": [
    "dataset = TSPDataset(5, 15)"
   ]
  }
 ]
}